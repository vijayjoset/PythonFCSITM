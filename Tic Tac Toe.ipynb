{
 "cells": [
  {
   "cell_type": "markdown",
   "metadata": {},
   "source": [
    "# Step 1: Creating Game Board"
   ]
  },
  {
   "cell_type": "code",
   "execution_count": 2,
   "metadata": {},
   "outputs": [],
   "source": [
    "def game_board():\n",
    "    print(' | | ')\n",
    "    print('------')\n",
    "    print(' | | ')\n",
    "    print('------')\n",
    "    print(' | | ')"
   ]
  },
  {
   "cell_type": "code",
   "execution_count": 3,
   "metadata": {},
   "outputs": [
    {
     "name": "stdout",
     "output_type": "stream",
     "text": [
      " | | \n",
      "------\n",
      " | | \n",
      "------\n",
      " | | \n"
     ]
    }
   ],
   "source": [
    "game_board()"
   ]
  },
  {
   "cell_type": "code",
   "execution_count": 4,
   "metadata": {},
   "outputs": [],
   "source": [
    "board = ['O','X','O','X',' ','X','O','X','O','X']"
   ]
  },
  {
   "cell_type": "code",
   "execution_count": 5,
   "metadata": {},
   "outputs": [],
   "source": [
    "from IPython.display import clear_output\n",
    "\n",
    "def game_board(board):\n",
    "    clear_output()\n",
    "    print(' '+board[7]+ '|'+ board[8]+ '|'+ board[9])\n",
    "    print('------')\n",
    "    print(' '+ board[4]+ '|'+ board[5]+ '|'+ board[6])\n",
    "    print('------')\n",
    "    print(' '+ board[1]+ '|'+ board[2]+ '|'+ board[3])"
   ]
  },
  {
   "cell_type": "code",
   "execution_count": 6,
   "metadata": {},
   "outputs": [
    {
     "name": "stdout",
     "output_type": "stream",
     "text": [
      " X|O|X\n",
      "------\n",
      "  |X|O\n",
      "------\n",
      " X|O|X\n"
     ]
    }
   ],
   "source": [
    "game_board(board)"
   ]
  },
  {
   "cell_type": "markdown",
   "metadata": {},
   "source": [
    "# Step 2: Assigning a Marker to the player"
   ]
  },
  {
   "cell_type": "code",
   "execution_count": 7,
   "metadata": {},
   "outputs": [],
   "source": [
    "def player_input():\n",
    "    marker = ''\n",
    "    while not (marker == 'X' or marker == 'O'):\n",
    "        marker = input('Player one : Please enter your marker X or O :').upper()\n",
    "        \n",
    "    if marker == 'X':\n",
    "        return('X', 'O')\n",
    "    else:\n",
    "        return('O','X')"
   ]
  },
  {
   "cell_type": "code",
   "execution_count": 8,
   "metadata": {},
   "outputs": [
    {
     "name": "stdout",
     "output_type": "stream",
     "text": [
      "Player one : Please enter your marker X or O :X\n"
     ]
    },
    {
     "data": {
      "text/plain": [
       "('X', 'O')"
      ]
     },
     "execution_count": 8,
     "metadata": {},
     "output_type": "execute_result"
    }
   ],
   "source": [
    "player_input()"
   ]
  },
  {
   "cell_type": "markdown",
   "metadata": {},
   "source": [
    "# Step 3 - Placing a Marker"
   ]
  },
  {
   "cell_type": "code",
   "execution_count": 9,
   "metadata": {},
   "outputs": [],
   "source": [
    "def place_marker(board,marker,position):\n",
    "    board[position] = marker"
   ]
  },
  {
   "cell_type": "code",
   "execution_count": 10,
   "metadata": {},
   "outputs": [
    {
     "data": {
      "text/plain": [
       "['O', 'X', 'O', 'X', ' ', 'X', 'O', 'X', 'O', 'X']"
      ]
     },
     "execution_count": 10,
     "metadata": {},
     "output_type": "execute_result"
    }
   ],
   "source": [
    "board"
   ]
  },
  {
   "cell_type": "code",
   "execution_count": 11,
   "metadata": {},
   "outputs": [],
   "source": [
    "place_marker(board,'X',2)"
   ]
  },
  {
   "cell_type": "markdown",
   "metadata": {},
   "source": [
    "# Step 4 - Check if there is any winner"
   ]
  },
  {
   "cell_type": "code",
   "execution_count": 12,
   "metadata": {},
   "outputs": [],
   "source": [
    "def check_winner(board,marker):\n",
    "    my_bool = (   (board[1]==marker and board[2]==marker and board[3]==marker) \n",
    "               or (board[4]==marker and board[5]==marker and board[6]==marker) \n",
    "               or (board[7]==marker and board[8]==marker and board[9]==marker) \n",
    "               or (board[1]==marker and board[4]==marker and board[7]==marker) \n",
    "               or (board[2]==marker and board[5]==marker and board[8]==marker) \n",
    "               or (board[3]==marker and board[6]==marker and board[9]==marker) \n",
    "               or (board[3]==marker and board[5]==marker and board[7]==marker) \n",
    "               or (board[1]==marker and board[5]==marker and board[9]==marker))\n",
    "    #if (my_bool == True):\n",
    "     #   print('%s Won the game' %(marker))\n",
    "    #else:\n",
    "     #   print('Game to continue')\n",
    "    return my_bool"
   ]
  },
  {
   "cell_type": "code",
   "execution_count": 13,
   "metadata": {},
   "outputs": [
    {
     "data": {
      "text/plain": [
       "True"
      ]
     },
     "execution_count": 13,
     "metadata": {},
     "output_type": "execute_result"
    }
   ],
   "source": [
    "check_winner(board,'X')"
   ]
  },
  {
   "cell_type": "markdown",
   "metadata": {},
   "source": [
    "# Step 5: Randomly selecting a player to go first"
   ]
  },
  {
   "cell_type": "code",
   "execution_count": 14,
   "metadata": {},
   "outputs": [],
   "source": [
    "import random\n",
    "\n",
    "def choose_first():\n",
    "    if random.randint(1,2) == 1:\n",
    "        return 'Player 1'\n",
    "    else:\n",
    "        return 'Player 2'"
   ]
  },
  {
   "cell_type": "code",
   "execution_count": 15,
   "metadata": {},
   "outputs": [
    {
     "data": {
      "text/plain": [
       "'Player 2'"
      ]
     },
     "execution_count": 15,
     "metadata": {},
     "output_type": "execute_result"
    }
   ],
   "source": [
    "choose_first()"
   ]
  },
  {
   "cell_type": "markdown",
   "metadata": {},
   "source": [
    "# Step 6: Check for particular space is empty"
   ]
  },
  {
   "cell_type": "code",
   "execution_count": 16,
   "metadata": {},
   "outputs": [],
   "source": [
    "def space_check(board,position):\n",
    "    return board[position] == ' '"
   ]
  },
  {
   "cell_type": "code",
   "execution_count": 17,
   "metadata": {},
   "outputs": [
    {
     "data": {
      "text/plain": [
       "False"
      ]
     },
     "execution_count": 17,
     "metadata": {},
     "output_type": "execute_result"
    }
   ],
   "source": [
    "space_check(board,3)"
   ]
  },
  {
   "cell_type": "code",
   "execution_count": 18,
   "metadata": {},
   "outputs": [
    {
     "data": {
      "text/plain": [
       "True"
      ]
     },
     "execution_count": 18,
     "metadata": {},
     "output_type": "execute_result"
    }
   ],
   "source": [
    "space_check(board,4)"
   ]
  },
  {
   "cell_type": "markdown",
   "metadata": {},
   "source": [
    "# Step 7: Check if the board is full or not"
   ]
  },
  {
   "cell_type": "code",
   "execution_count": 19,
   "metadata": {},
   "outputs": [],
   "source": [
    "def full_board_check(board):\n",
    "    for i in range(1,10):\n",
    "        if (space_check(board,i)):\n",
    "            return False\n",
    "    return True"
   ]
  },
  {
   "cell_type": "code",
   "execution_count": 20,
   "metadata": {},
   "outputs": [
    {
     "data": {
      "text/plain": [
       "False"
      ]
     },
     "execution_count": 20,
     "metadata": {},
     "output_type": "execute_result"
    }
   ],
   "source": [
    "full_board_check(board)"
   ]
  },
  {
   "cell_type": "code",
   "execution_count": 21,
   "metadata": {},
   "outputs": [
    {
     "data": {
      "text/plain": [
       "False"
      ]
     },
     "execution_count": 21,
     "metadata": {},
     "output_type": "execute_result"
    }
   ],
   "source": [
    "full_board_check(board)"
   ]
  },
  {
   "cell_type": "markdown",
   "metadata": {},
   "source": [
    "# Step 8: Get Player Input for next position"
   ]
  },
  {
   "cell_type": "code",
   "execution_count": 22,
   "metadata": {},
   "outputs": [],
   "source": [
    "def next_player_input(board, player):\n",
    "    position = 0\n",
    "    while position not in [1,2,3,4,5,6,7,8,9] or not space_check(board,position):\n",
    "        position = int(input(\"%s, Enter the position (1 to 9) : \" %(player)))\n",
    "    return position"
   ]
  },
  {
   "cell_type": "code",
   "execution_count": 25,
   "metadata": {},
   "outputs": [
    {
     "name": "stdout",
     "output_type": "stream",
     "text": [
      "Player 1, Enter the position (1 to 9) : 5\n",
      "Player 1, Enter the position (1 to 9) : 4\n"
     ]
    },
    {
     "data": {
      "text/plain": [
       "4"
      ]
     },
     "execution_count": 25,
     "metadata": {},
     "output_type": "execute_result"
    }
   ],
   "source": [
    "next_player_input(board, \"Player 1\")"
   ]
  },
  {
   "cell_type": "markdown",
   "metadata": {},
   "source": [
    "# Step 9: Ask player would like to Play Again"
   ]
  },
  {
   "cell_type": "code",
   "execution_count": 27,
   "metadata": {},
   "outputs": [],
   "source": [
    "def playagain():\n",
    "    return input('Do you wish to play again, (yes(y) or no(n)): ').lower().startswith('y')"
   ]
  },
  {
   "cell_type": "code",
   "execution_count": 28,
   "metadata": {},
   "outputs": [
    {
     "name": "stdout",
     "output_type": "stream",
     "text": [
      "Do you wish to play again, (yes(y) or no(n)): y\n"
     ]
    },
    {
     "data": {
      "text/plain": [
       "True"
      ]
     },
     "execution_count": 28,
     "metadata": {},
     "output_type": "execute_result"
    }
   ],
   "source": [
    "playagain()"
   ]
  },
  {
   "cell_type": "markdown",
   "metadata": {},
   "source": [
    "# Step 10: Assembly of Tic Tac Toe game"
   ]
  },
  {
   "cell_type": "code",
   "execution_count": 29,
   "metadata": {},
   "outputs": [],
   "source": [
    "def tic_tac_toe():\n",
    "    print(\"Welcome to Vijay's Tic Tac Toe \")\n",
    "    \n",
    "    while True:\n",
    "        newBoard = [' ']*10\n",
    "        player1_marker,player2_marker = player_input()\n",
    "        turn = choose_first()\n",
    "        print(turn+ 'Will go first in this game')\n",
    "        \n",
    "        play_game = input(\"Are you ready? (yes(y) or no(n)) : \")\n",
    "        \n",
    "        if play_game.lower()[0] == 'y':\n",
    "            game_on = True\n",
    "        else:\n",
    "            game_on = False\n",
    "        \n",
    "        while game_on:\n",
    "            if turn == 'Player 1':\n",
    "                game_board(newBoard)\n",
    "                position = next_player_input(newBoard, \"Player 1\")\n",
    "                place_marker(newBoard,player1_marker, position)\n",
    "                \n",
    "                if check_winner(newBoard,player1_marker):\n",
    "                    game_board(newBoard)\n",
    "                    print('Congrat! you have Won the Game!')\n",
    "                    game_on = False\n",
    "                else:\n",
    "                    if full_board_check(newBoard):\n",
    "                        game_board(newBaord)\n",
    "                        print('Game has been Drawn')\n",
    "                        break\n",
    "                    else:\n",
    "                        turn = 'Player 2'\n",
    "            else:\n",
    "                game_board(newBoard)\n",
    "                position = next_player_input(newBoard, \"Player 2\")\n",
    "                place_marker(newBoard,player2_marker, position)\n",
    "                \n",
    "                if check_winner(newBoard,player2_marker):\n",
    "                    game_board(newBoard)\n",
    "                    print('Congrat! you have Won the Game!')\n",
    "                    game_on = False\n",
    "                else:\n",
    "                    if full_board_check(newBoard):\n",
    "                        game_board(newBoard)\n",
    "                        print('Game has beendrawn')\n",
    "                        break\n",
    "                    else:\n",
    "                        turn = 'Player 1'\n",
    "                \n",
    "        if not playagain():\n",
    "            break"
   ]
  },
  {
   "cell_type": "code",
   "execution_count": 30,
   "metadata": {},
   "outputs": [
    {
     "name": "stdout",
     "output_type": "stream",
     "text": [
      " O| |O\n",
      "------\n",
      " O|X|X\n",
      "------\n",
      " O| |X\n",
      "Congrat! you have Won the Game!\n",
      "Do you wish to play again, (yes(y) or no(n)): n\n"
     ]
    }
   ],
   "source": [
    "tic_tac_toe()"
   ]
  },
  {
   "cell_type": "code",
   "execution_count": null,
   "metadata": {},
   "outputs": [],
   "source": []
  }
 ],
 "metadata": {
  "kernelspec": {
   "display_name": "Python 3",
   "language": "python",
   "name": "python3"
  }
 },
 "nbformat": 4,
 "nbformat_minor": 2
}

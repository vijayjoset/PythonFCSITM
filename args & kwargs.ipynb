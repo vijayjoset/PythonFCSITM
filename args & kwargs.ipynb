{
 "cells": [
  {
   "cell_type": "markdown",
   "metadata": {},
   "source": [
    "# *args"
   ]
  },
  {
   "cell_type": "code",
   "execution_count": null,
   "metadata": {},
   "outputs": [],
   "source": [
    "def myfunc(a,b):\n",
    "    return a+b\n",
    "\n",
    "myfunc(24,13)\n",
    "\n",
    "# problem with this is we can't send more than defined number of parameters"
   ]
  },
  {
   "cell_type": "code",
   "execution_count": 5,
   "metadata": {},
   "outputs": [
    {
     "data": {
      "text/plain": [
       "79089"
      ]
     },
     "execution_count": 5,
     "metadata": {},
     "output_type": "execute_result"
    }
   ],
   "source": [
    "def myfun(*testargs):\n",
    "    return sum(testargs)\n",
    "\n",
    "myfun(10,24,56,78999)"
   ]
  },
  {
   "cell_type": "markdown",
   "metadata": {},
   "source": [
    "# **kwargs"
   ]
  },
  {
   "cell_type": "code",
   "execution_count": 8,
   "metadata": {},
   "outputs": [
    {
     "name": "stdout",
     "output_type": "stream",
     "text": [
      "My favourite fruit is : Apple\n"
     ]
    }
   ],
   "source": [
    "def my_new_func(**kwargs):\n",
    "    if 'fruit' in kwargs:\n",
    "        print(f\"My favourite fruit is : {kwargs['fruit']}\")\n",
    "    else:\n",
    "        print(\"I don't like any other fruit\")\n",
    "              \n",
    "my_new_func(fruit='Apple',veggie='Potato')\n",
    "              "
   ]
  },
  {
   "cell_type": "markdown",
   "metadata": {},
   "source": [
    "# Write a program using keyword arguments which can take name of the student, age and marks and print them all in a formatted report card in o/p"
   ]
  },
  {
   "cell_type": "code",
   "execution_count": 12,
   "metadata": {},
   "outputs": [
    {
     "name": "stdout",
     "output_type": "stream",
     "text": [
      "     St.John's International School      \n",
      "-----------------------------------------\n",
      "Name : Sai Kiran\n",
      "Age  : 25\n",
      "Env Science Mark : 98\n",
      "Analytics   Mark : 89\n",
      "Resrch Maths Mark : 90\n"
     ]
    }
   ],
   "source": [
    "def print_report_card(**studvalue):\n",
    "    print(\"     St.John's International School      \")\n",
    "    print(\"-----------------------------------------\")\n",
    "    print(f\"Name : {studvalue['SName']}\")\n",
    "    print(f\"Age  : {studvalue['SAge']}\")\n",
    "    print(f\"Env Science Mark : {studvalue['SMark1']}\")\n",
    "    print(f\"Analytics   Mark : {studvalue['SMark2']}\")\n",
    "    print(f\"Resrch Maths Mark : {studvalue['SMark3']}\")\n",
    "          \n",
    "print_report_card(SName='Sai Kiran',SAge='25',SMark1='98',SMark2='89',SMark3='90')"
   ]
  },
  {
   "cell_type": "code",
   "execution_count": null,
   "metadata": {},
   "outputs": [],
   "source": []
  }
 ],
 "metadata": {
  "kernelspec": {
   "display_name": "Python 3",
   "language": "python",
   "name": "python3"
  },
  "language_info": {
   "codemirror_mode": {
    "name": "ipython",
    "version": 3
   },
   "file_extension": ".py",
   "mimetype": "text/x-python",
   "name": "python",
   "nbconvert_exporter": "python",
   "pygments_lexer": "ipython3",
   "version": "3.7.1"
  }
 },
 "nbformat": 4,
 "nbformat_minor": 2
}
